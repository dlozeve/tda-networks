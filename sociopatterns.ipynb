{
 "cells": [
  {
   "cell_type": "markdown",
   "metadata": {},
   "source": [
    "# SocioPatterns"
   ]
  },
  {
   "cell_type": "code",
   "execution_count": 17,
   "metadata": {
    "autoscroll": false,
    "collapsed": false,
    "ein.tags": "worksheet-0",
    "slideshow": {
     "slide_type": "-"
    }
   },
   "outputs": [],
   "source": [
    "import numpy as np\n",
    "import pandas as pd\n",
    "import matplotlib.pyplot as plt\n",
    "%matplotlib inline"
   ]
  },
  {
   "cell_type": "code",
   "execution_count": 18,
   "metadata": {
    "autoscroll": false,
    "collapsed": false,
    "ein.tags": "worksheet-0",
    "slideshow": {
     "slide_type": "-"
    }
   },
   "outputs": [],
   "source": [
    "import igraph as ig\n",
    "import dionysus as d"
   ]
  },
  {
   "cell_type": "code",
   "execution_count": 19,
   "metadata": {},
   "outputs": [],
   "source": [
    "plt.style.use(\"fivethirtyeight\")\n",
    "plt.rcParams[\"figure.figsize\"] = 10, 6"
   ]
  },
  {
   "cell_type": "markdown",
   "metadata": {},
   "source": [
    "## Data import"
   ]
  },
  {
   "cell_type": "code",
   "execution_count": 20,
   "metadata": {},
   "outputs": [],
   "source": [
    "import os\n",
    "\n",
    "datadir = \"data/sociopatterns/infectious/INFECTIOUS_cumulative_daily_networks/\"\n",
    "files = [os.path.join(datadir, f) for f in os.listdir(datadir)]\n",
    "gs = []\n",
    "for f in files:\n",
    "    gs.append(ig.read(f))"
   ]
  },
  {
   "cell_type": "code",
   "execution_count": 21,
   "metadata": {},
   "outputs": [
    {
     "data": {
      "text/plain": [
       "'IGRAPH U-W- 242 1092 -- \\n+ attr: id (v), weight (e)'"
      ]
     },
     "execution_count": 21,
     "metadata": {},
     "output_type": "execute_result"
    }
   ],
   "source": [
    "gs[0].summary()"
   ]
  },
  {
   "cell_type": "code",
   "execution_count": 22,
   "metadata": {},
   "outputs": [
    {
     "data": {
      "text/plain": [
       "69"
      ]
     },
     "execution_count": 22,
     "metadata": {},
     "output_type": "execute_result"
    }
   ],
   "source": [
    "len(gs)"
   ]
  },
  {
   "cell_type": "markdown",
   "metadata": {},
   "source": [
    "## Persistent homology"
   ]
  },
  {
   "cell_type": "code",
   "execution_count": 23,
   "metadata": {},
   "outputs": [],
   "source": [
    "from filtration import wrcf"
   ]
  },
  {
   "cell_type": "code",
   "execution_count": 24,
   "metadata": {},
   "outputs": [],
   "source": [
    "def get_diagram(graph, weight=\"weight\"):\n",
    "    filt = wrcf(graph, weight=weight)\n",
    "    pers = d.homology_persistence(filt)\n",
    "    return(d.init_diagrams(pers, filt))"
   ]
  },
  {
   "cell_type": "code",
   "execution_count": 25,
   "metadata": {},
   "outputs": [],
   "source": [
    "from dask.distributed import Client"
   ]
  },
  {
   "cell_type": "code",
   "execution_count": 26,
   "metadata": {},
   "outputs": [],
   "source": [
    "client = Client(processes=False)"
   ]
  },
  {
   "cell_type": "code",
   "execution_count": 27,
   "metadata": {},
   "outputs": [
    {
     "name": "stderr",
     "output_type": "stream",
     "text": [
      "distributed.comm.inproc - WARNING - Closing dangling queue in <InProc local=inproc://129.67.184.177/8979/38 remote=inproc://129.67.184.177/8979/32>\n",
      "distributed.comm.inproc - WARNING - Closing dangling queue in <InProc local=inproc://129.67.184.177/8979/39 remote=inproc://129.67.184.177/8979/32>\n",
      "distributed.comm.inproc - WARNING - Closing dangling queue in <InProc local=inproc://129.67.184.177/8979/40 remote=inproc://129.67.184.177/8979/32>\n",
      "distributed.comm.inproc - WARNING - Closing dangling queue in <InProc local=inproc://129.67.184.177/8979/41 remote=inproc://129.67.184.177/8979/32>\n",
      "distributed.comm.inproc - WARNING - Closing dangling queue in <InProc local=inproc://129.67.184.177/8979/42 remote=inproc://129.67.184.177/8979/32>\n",
      "distributed.comm.inproc - WARNING - Closing dangling queue in <InProc local=inproc://129.67.184.177/8979/43 remote=inproc://129.67.184.177/8979/32>\n",
      "distributed.comm.inproc - WARNING - Closing dangling queue in <InProc local=inproc://129.67.184.177/8979/44 remote=inproc://129.67.184.177/8979/32>\n",
      "distributed.comm.inproc - WARNING - Closing dangling queue in <InProc local=inproc://129.67.184.177/8979/45 remote=inproc://129.67.184.177/8979/32>\n",
      "distributed.comm.inproc - WARNING - Closing dangling queue in <InProc local=inproc://129.67.184.177/8979/46 remote=inproc://129.67.184.177/8979/32>\n",
      "distributed.comm.inproc - WARNING - Closing dangling queue in <InProc local=inproc://129.67.184.177/8979/48 remote=inproc://129.67.184.177/8979/32>\n",
      "distributed.comm.inproc - WARNING - Closing dangling queue in <InProc local=inproc://129.67.184.177/8979/50 remote=inproc://129.67.184.177/8979/32>\n",
      "distributed.comm.inproc - WARNING - Closing dangling queue in <InProc local=inproc://129.67.184.177/8979/51 remote=inproc://129.67.184.177/8979/32>\n"
     ]
    }
   ],
   "source": [
    "dgms = client.map(get_diagram, gs)"
   ]
  },
  {
   "cell_type": "code",
   "execution_count": 28,
   "metadata": {},
   "outputs": [],
   "source": [
    "dgms = client.gather(dgms)"
   ]
  },
  {
   "cell_type": "code",
   "execution_count": 29,
   "metadata": {},
   "outputs": [
    {
     "data": {
      "image/png": "[encoded data removed]",
      "text/plain": [
       "<Figure size 720x432 with 1 Axes>"
      ]
     },
     "metadata": {},
     "output_type": "display_data"
    },
    {
     "name": "stderr",
     "output_type": "stream",
     "text": [
      "distributed.comm.inproc - WARNING - Closing dangling queue in <InProc local=inproc://129.67.184.177/8979/53 remote=inproc://129.67.184.177/8979/32>\n",
      "distributed.comm.inproc - WARNING - Closing dangling queue in <InProc local=inproc://129.67.184.177/8979/55 remote=inproc://129.67.184.177/8979/32>\n",
      "distributed.comm.inproc - WARNING - Closing dangling queue in <InProc local=inproc://129.67.184.177/8979/52 remote=inproc://129.67.184.177/8979/32>\n",
      "distributed.comm.inproc - WARNING - Closing dangling queue in <InProc local=inproc://129.67.184.177/8979/54 remote=inproc://129.67.184.177/8979/32>\n",
      "distributed.comm.inproc - WARNING - Closing dangling queue in <InProc local=inproc://129.67.184.177/8979/56 remote=inproc://129.67.184.177/8979/32>\n"
     ]
    }
   ],
   "source": [
    "d.plot.plot_diagram(dgms[0][1])"
   ]
  },
  {
   "cell_type": "markdown",
   "metadata": {},
   "source": [
    "## Sliced Wasserstein Kernel"
   ]
  },
  {
   "cell_type": "code",
   "execution_count": 130,
   "metadata": {},
   "outputs": [
    {
     "data": {
      "text/plain": [
       "1604.7705047993218"
      ]
     },
     "execution_count": 130,
     "metadata": {},
     "output_type": "execute_result"
    }
   ],
   "source": [
    "from sliced_wasserstein import SW_approx\n",
    "SW_approx(dgms[0][1], dgms[1][1], 10)"
   ]
  },
  {
   "cell_type": "code",
   "execution_count": 134,
   "metadata": {},
   "outputs": [
    {
     "data": {
      "text/plain": [
       "array([[   0.        , 1604.7705048 , 2975.88462945, ...,  558.06580723,\n",
       "        1724.7975378 , 1252.69928457],\n",
       "       [1604.7705048 ,    0.        , 4437.3268448 , ..., 1216.64571558,\n",
       "         586.30781314,  552.74430357],\n",
       "       [2975.88462945, 4437.3268448 ,    0.        , ..., 3287.59668834,\n",
       "        4627.91436412, 3967.09463224],\n",
       "       ...,\n",
       "       [ 558.06580723, 1216.64571558, 3287.59668834, ...,    0.        ,\n",
       "        1397.47442011,  793.43030235],\n",
       "       [1724.7975378 ,  586.30781314, 4627.91436412, ..., 1397.47442011,\n",
       "           0.        ,  905.99096629],\n",
       "       [1252.69928457,  552.74430357, 3967.09463224, ...,  793.43030235,\n",
       "         905.99096629,    0.        ]])"
      ]
     },
     "execution_count": 134,
     "metadata": {},
     "output_type": "execute_result"
    }
   ],
   "source": [
    "gram = np.array([[SW_approx(dgms[i][1], dgms[j][1], 10) for i in range(len(dgms))] for j in range(len(dgms))])\n",
    "gram"
   ]
  },
  {
   "cell_type": "code",
   "execution_count": null,
   "metadata": {},
   "outputs": [],
   "source": [
    "client.gather(client.map(lambda i, j: i+j, range(10), range(10)))"
   ]
  },
  {
   "cell_type": "code",
   "execution_count": null,
   "metadata": {},
   "outputs": [],
   "source": []
  }
 ],
 "metadata": {
  "kernelspec": {
   "display_name": "Python 3",
   "language": "python",
   "name": "python3"
  },
  "language_info": {
   "codemirror_mode": {
    "name": "ipython",
    "version": 3
   },
   "file_extension": ".py",
   "mimetype": "text/x-python",
   "name": "python",
   "nbconvert_exporter": "python",
   "pygments_lexer": "ipython3",
   "version": "3.5.2"
  }
 },
 "nbformat": 4,
 "nbformat_minor": 2
}
